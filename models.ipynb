{
 "cells": [
  {
   "cell_type": "code",
   "execution_count": 14,
   "metadata": {},
   "outputs": [],
   "source": [
    "import pandas as pd\n",
    "import numpy as np  \n",
    "import matplotlib.pyplot as plt  \n",
    "import seaborn as seabornInstance \n",
    "from sklearn.linear_model import LinearRegression, ElasticNet\n",
    "from sklearn.ensemble import RandomForestRegressor\n",
    "from sklearn import metrics\n",
    "%matplotlib inline"
   ]
  },
  {
   "cell_type": "code",
   "execution_count": 3,
   "metadata": {},
   "outputs": [],
   "source": [
    "abbrev = pd.read_csv(\"data/abbrev.csv\")"
   ]
  },
  {
   "cell_type": "markdown",
   "metadata": {},
   "source": [
    "### Linear Regression"
   ]
  },
  {
   "cell_type": "code",
   "execution_count": 5,
   "metadata": {},
   "outputs": [
    {
     "data": {
      "text/plain": [
       "0.6087254548799839"
      ]
     },
     "execution_count": 5,
     "metadata": {},
     "output_type": "execute_result"
    }
   ],
   "source": [
    "predictors = ['household_size', 'empl_agriculture', 'empl_professional','empl_social', 'empl_services', 'empl_manufacturing', 'empl_retail',\n",
    "              'prc_fam_poverty', 'avg_income', 'prc_public_transp', 'population', 'pop_65_plus', 'health_ins', 'area', \n",
    "              'domestic_passengers', 'intl_passengers', 'ten_plus', 'order', 'density']\n",
    "outcome = \"deaths\"\n",
    "lrm = LinearRegression().fit(abbrev[predictors], abbrev[outcome])\n",
    "lrm.score(abbrev[predictors], abbrev[outcome])"
   ]
  },
  {
   "cell_type": "code",
   "execution_count": 6,
   "metadata": {},
   "outputs": [
    {
     "name": "stdout",
     "output_type": "stream",
     "text": [
      "household_size \t 86.87368229150032\n",
      "empl_agriculture \t 6.649750974431078\n",
      "empl_professional \t -18.39721907663424\n",
      "empl_social \t 0.30291610536996977\n",
      "empl_services \t -1.0767198635854955\n",
      "empl_manufacturing \t 4.241702472634317\n",
      "empl_retail \t 8.279548164650217\n",
      "prc_fam_poverty \t -1.2700373310401158\n",
      "avg_income \t 0.008322751894044248\n",
      "prc_public_transp \t -3.2933042050765055e-08\n",
      "population \t -1.4713096917745952e-05\n",
      "pop_65_plus \t 5.959332859918119\n",
      "health_ins \t -7.149623481667901\n",
      "area \t 0.011606407466828172\n",
      "domestic_passengers \t -2.3181379452161516e-06\n",
      "intl_passengers \t -2.0520743912399743e-05\n",
      "ten_plus \t 8.319880118380848\n",
      "order \t -1.9488984389932336\n",
      "density \t 0.10680201485234474\n"
     ]
    }
   ],
   "source": [
    "for x, y in zip(predictors, lrm.coef_):\n",
    "    print(x, \"\\t\", y)"
   ]
  },
  {
   "cell_type": "markdown",
   "metadata": {},
   "source": [
    "### Elastic Net"
   ]
  },
  {
   "cell_type": "code",
   "execution_count": 13,
   "metadata": {},
   "outputs": [
    {
     "name": "stderr",
     "output_type": "stream",
     "text": [
      "/home/anna/anaconda3/lib/python3.7/site-packages/sklearn/linear_model/coordinate_descent.py:475: ConvergenceWarning: Objective did not converge. You might want to increase the number of iterations. Duality gap: 27973608.83779774, tolerance: 13709.033854171703\n",
      "  positive)\n"
     ]
    },
    {
     "data": {
      "text/plain": [
       "0.5890843765741265"
      ]
     },
     "execution_count": 13,
     "metadata": {},
     "output_type": "execute_result"
    }
   ],
   "source": [
    "enm = ElasticNet(random_state=101, max_iter=60000)\n",
    "enm.fit(abbrev[predictors], abbrev[outcome])\n",
    "enm.score(abbrev[predictors], abbrev[outcome])"
   ]
  },
  {
   "cell_type": "code",
   "execution_count": 12,
   "metadata": {},
   "outputs": [
    {
     "name": "stdout",
     "output_type": "stream",
     "text": [
      "household_size \t 3.7585762302816623\n",
      "empl_agriculture \t 6.14421129980911e-05\n",
      "empl_professional \t -0.0004349503668353485\n",
      "empl_social \t 0.00022210895632088\n",
      "empl_services \t -3.052808401154947e-05\n",
      "empl_manufacturing \t 0.000510130403544231\n",
      "empl_retail \t -0.00034501222495761776\n",
      "prc_fam_poverty \t -4.097372071085263\n",
      "avg_income \t 0.00011059140879492039\n",
      "prc_public_transp \t -6.211411401818491e-08\n",
      "population \t -2.800782950876621e-05\n",
      "pop_65_plus \t 4.797355626434458\n",
      "health_ins \t -3.050440573128758\n",
      "area \t 0.012544283143949654\n",
      "domestic_passengers \t -3.5613886847970177e-06\n",
      "intl_passengers \t -1.6971353575944596e-05\n",
      "ten_plus \t 6.772142986099332\n",
      "order \t -0.14473535022741355\n",
      "density \t 0.10389248280522088\n"
     ]
    }
   ],
   "source": [
    "for x, y in zip(predictors, enm.coef_):\n",
    "    print(x, \"\\t\", y)"
   ]
  },
  {
   "cell_type": "markdown",
   "metadata": {},
   "source": [
    "### Random Forest"
   ]
  },
  {
   "cell_type": "code",
   "execution_count": 17,
   "metadata": {},
   "outputs": [
    {
     "name": "stderr",
     "output_type": "stream",
     "text": [
      "/home/anna/anaconda3/lib/python3.7/site-packages/sklearn/ensemble/forest.py:245: FutureWarning: The default value of n_estimators will change from 10 in version 0.20 to 100 in 0.22.\n",
      "  \"10 in version 0.20 to 100 in 0.22.\", FutureWarning)\n"
     ]
    },
    {
     "data": {
      "text/plain": [
       "0.9139348700252757"
      ]
     },
     "execution_count": 17,
     "metadata": {},
     "output_type": "execute_result"
    }
   ],
   "source": [
    "rfm = RandomForestRegressor(max_depth=10, random_state=101)\n",
    "rfm.fit(abbrev[predictors], abbrev[outcome])\n",
    "rfm.score(abbrev[predictors], abbrev[outcome])"
   ]
  },
  {
   "cell_type": "code",
   "execution_count": 18,
   "metadata": {},
   "outputs": [
    {
     "data": {
      "text/plain": [
       "RandomForestRegressor(bootstrap=True, criterion='mse', max_depth=10,\n",
       "                      max_features='auto', max_leaf_nodes=None,\n",
       "                      min_impurity_decrease=0.0, min_impurity_split=None,\n",
       "                      min_samples_leaf=1, min_samples_split=2,\n",
       "                      min_weight_fraction_leaf=0.0, n_estimators=10,\n",
       "                      n_jobs=None, oob_score=False, random_state=101, verbose=0,\n",
       "                      warm_start=False)"
      ]
     },
     "execution_count": 18,
     "metadata": {},
     "output_type": "execute_result"
    }
   ],
   "source": [
    "rfm"
   ]
  },
  {
   "cell_type": "code",
   "execution_count": 20,
   "metadata": {},
   "outputs": [
    {
     "name": "stdout",
     "output_type": "stream",
     "text": [
      "household_size \t 0.0007878166151606204\n",
      "empl_agriculture \t 0.006112634530368612\n",
      "empl_professional \t 0.002500946802420563\n",
      "empl_social \t 0.004227000351078705\n",
      "empl_services \t 0.014860093548997037\n",
      "empl_manufacturing \t 0.012918852832411301\n",
      "empl_retail \t 0.001001416245173311\n",
      "prc_fam_poverty \t 0.004133959550093132\n",
      "avg_income \t 0.38604183128331515\n",
      "prc_public_transp \t 0.19045096361289598\n",
      "population \t 0.010337990546694025\n",
      "pop_65_plus \t 0.008731779156967188\n",
      "health_ins \t 0.0002586249183814921\n",
      "area \t 0.006467183155095245\n",
      "domestic_passengers \t 0.0006877320175733158\n",
      "intl_passengers \t 0.03262527650961451\n",
      "ten_plus \t 0.11232300268800592\n",
      "order \t 0.001112047875149453\n",
      "density \t 0.2044208477606045\n"
     ]
    }
   ],
   "source": [
    "for x, y in zip(predictors, rfm.feature_importances_):\n",
    "    print(x, \"\\t\", y)"
   ]
  },
  {
   "cell_type": "code",
   "execution_count": null,
   "metadata": {},
   "outputs": [],
   "source": []
  }
 ],
 "metadata": {
  "kernelspec": {
   "display_name": "Python 3",
   "language": "python",
   "name": "python3"
  },
  "language_info": {
   "codemirror_mode": {
    "name": "ipython",
    "version": 3
   },
   "file_extension": ".py",
   "mimetype": "text/x-python",
   "name": "python",
   "nbconvert_exporter": "python",
   "pygments_lexer": "ipython3",
   "version": "3.7.3"
  }
 },
 "nbformat": 4,
 "nbformat_minor": 4
}
