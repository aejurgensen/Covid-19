{
 "cells": [
  {
   "cell_type": "code",
   "execution_count": 2,
   "metadata": {},
   "outputs": [],
   "source": [
    "import pandas as pd\n",
    "import numpy as np  \n",
    "import matplotlib.pyplot as plt  \n",
    "import seaborn as seabornInstance \n",
    "#from sklearn.model_selection import train_test_split \n",
    "from sklearn.linear_model import LinearRegression, ElasticNet\n",
    "from sklearn import metrics\n",
    "%matplotlib inline"
   ]
  },
  {
   "cell_type": "code",
   "execution_count": 3,
   "metadata": {},
   "outputs": [],
   "source": [
    "abbrev = pd.read_csv(\"data/abbrev.csv\")"
   ]
  },
  {
   "cell_type": "markdown",
   "metadata": {},
   "source": [
    "### Linear Regression"
   ]
  },
  {
   "cell_type": "code",
   "execution_count": 5,
   "metadata": {},
   "outputs": [
    {
     "data": {
      "text/plain": [
       "0.6087254548799839"
      ]
     },
     "execution_count": 5,
     "metadata": {},
     "output_type": "execute_result"
    }
   ],
   "source": [
    "predictors = ['household_size', 'empl_agriculture', 'empl_professional','empl_social', 'empl_services', 'empl_manufacturing', 'empl_retail',\n",
    "              'prc_fam_poverty', 'avg_income', 'prc_public_transp', 'population', 'pop_65_plus', 'health_ins', 'area', \n",
    "              'domestic_passengers', 'intl_passengers', 'ten_plus', 'order', 'density']\n",
    "outcome = \"deaths\"\n",
    "lrm = LinearRegression().fit(abbrev[predictors], abbrev[outcome])\n",
    "lrm.score(abbrev[predictors], abbrev[outcome])"
   ]
  },
  {
   "cell_type": "code",
   "execution_count": 6,
   "metadata": {},
   "outputs": [
    {
     "name": "stdout",
     "output_type": "stream",
     "text": [
      "household_size \t 86.87368229150032\n",
      "empl_agriculture \t 6.649750974431078\n",
      "empl_professional \t -18.39721907663424\n",
      "empl_social \t 0.30291610536996977\n",
      "empl_services \t -1.0767198635854955\n",
      "empl_manufacturing \t 4.241702472634317\n",
      "empl_retail \t 8.279548164650217\n",
      "prc_fam_poverty \t -1.2700373310401158\n",
      "avg_income \t 0.008322751894044248\n",
      "prc_public_transp \t -3.2933042050765055e-08\n",
      "population \t -1.4713096917745952e-05\n",
      "pop_65_plus \t 5.959332859918119\n",
      "health_ins \t -7.149623481667901\n",
      "area \t 0.011606407466828172\n",
      "domestic_passengers \t -2.3181379452161516e-06\n",
      "intl_passengers \t -2.0520743912399743e-05\n",
      "ten_plus \t 8.319880118380848\n",
      "order \t -1.9488984389932336\n",
      "density \t 0.10680201485234474\n"
     ]
    }
   ],
   "source": [
    "for x, y in zip(predictors, lrm.coef_):\n",
    "    print(x, \"\\t\", y)"
   ]
  },
  {
   "cell_type": "code",
   "execution_count": null,
   "metadata": {},
   "outputs": [],
   "source": []
  },
  {
   "cell_type": "code",
   "execution_count": null,
   "metadata": {},
   "outputs": [],
   "source": []
  }
 ],
 "metadata": {
  "kernelspec": {
   "display_name": "Python 3",
   "language": "python",
   "name": "python3"
  },
  "language_info": {
   "codemirror_mode": {
    "name": "ipython",
    "version": 3
   },
   "file_extension": ".py",
   "mimetype": "text/x-python",
   "name": "python",
   "nbconvert_exporter": "python",
   "pygments_lexer": "ipython3",
   "version": "3.7.3"
  }
 },
 "nbformat": 4,
 "nbformat_minor": 4
}
