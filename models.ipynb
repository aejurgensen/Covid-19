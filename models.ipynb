{
 "cells": [
  {
   "cell_type": "code",
   "execution_count": 1,
   "metadata": {},
   "outputs": [],
   "source": [
    "import pandas as pd\n",
    "import numpy as np  \n",
    "from sklearn.preprocessing import StandardScaler\n",
    "from sklearn.linear_model import LinearRegression, ElasticNet, ElasticNetCV\n",
    "from sklearn.ensemble import RandomForestRegressor\n",
    "from sklearn.model_selection import GridSearchCV\n",
    "from sklearn.metrics import make_scorer, r2_score "
   ]
  },
  {
   "cell_type": "code",
   "execution_count": 2,
   "metadata": {},
   "outputs": [],
   "source": [
    "%load_ext rpy2.ipython"
   ]
  },
  {
   "cell_type": "code",
   "execution_count": 3,
   "metadata": {},
   "outputs": [],
   "source": [
    "abbrev = pd.read_csv(\"data/abbrev.csv\")\n",
    "log_trans = abbrev.copy()"
   ]
  },
  {
   "cell_type": "code",
   "execution_count": 4,
   "metadata": {},
   "outputs": [
    {
     "data": {
      "text/plain": [
       "array(['Unnamed: 0', 'household_size', 'empl_agriculture',\n",
       "       'empl_professional', 'empl_social', 'empl_services',\n",
       "       'empl_manufacturing', 'empl_retail', 'prc_fam_poverty',\n",
       "       'avg_income', 'prc_public_transp', 'population', 'pop_65_plus',\n",
       "       'health_ins', 'county', 'state', 'area', 'domestic_passengers',\n",
       "       'intl_passengers', 'deaths', 'ten_plus', 'order', 'density',\n",
       "       'death_prc'], dtype=object)"
      ]
     },
     "execution_count": 4,
     "metadata": {},
     "output_type": "execute_result"
    }
   ],
   "source": [
    "log_trans.columns.values"
   ]
  },
  {
   "cell_type": "code",
   "execution_count": 5,
   "metadata": {},
   "outputs": [],
   "source": [
    "log_trans = log_trans.drop(['Unnamed: 0'], axis=1)"
   ]
  },
  {
   "cell_type": "code",
   "execution_count": 6,
   "metadata": {},
   "outputs": [],
   "source": [
    "# replace zeros with 0.0000001 to avoid -inf when apply log transformation\n",
    "log_trans.loc[log_trans[\"population\"] == 0, \"population\"] = 0.0000001\n",
    "log_trans.loc[log_trans[\"density\"] == 0, \"density\"] = 0.0000001\n",
    "log_trans.loc[log_trans[\"deaths\"] == 0, \"deaths\"] = 0.0000001\n",
    "log_trans.loc[log_trans[\"death_prc\"] == 0, \"death_prc\"] = 0.0000001"
   ]
  },
  {
   "cell_type": "code",
   "execution_count": 7,
   "metadata": {},
   "outputs": [],
   "source": [
    "log_trans[[\"population\", \"density\", \"deaths\", \"death_prc\"]] = log_trans[[\"population\", \"density\", \"deaths\", \"death_prc\"]].transform(np.log, axis=0)"
   ]
  },
  {
   "cell_type": "code",
   "execution_count": 8,
   "metadata": {},
   "outputs": [
    {
     "data": {
      "text/html": [
       "<div>\n",
       "<style scoped>\n",
       "    .dataframe tbody tr th:only-of-type {\n",
       "        vertical-align: middle;\n",
       "    }\n",
       "\n",
       "    .dataframe tbody tr th {\n",
       "        vertical-align: top;\n",
       "    }\n",
       "\n",
       "    .dataframe thead th {\n",
       "        text-align: right;\n",
       "    }\n",
       "</style>\n",
       "<table border=\"1\" class=\"dataframe\">\n",
       "  <thead>\n",
       "    <tr style=\"text-align: right;\">\n",
       "      <th></th>\n",
       "      <th>population</th>\n",
       "      <th>density</th>\n",
       "      <th>deaths</th>\n",
       "      <th>death_prc</th>\n",
       "    </tr>\n",
       "  </thead>\n",
       "  <tbody>\n",
       "    <tr>\n",
       "      <th>0</th>\n",
       "      <td>11.687626</td>\n",
       "      <td>5.325737</td>\n",
       "      <td>-16.118096</td>\n",
       "      <td>-16.118096</td>\n",
       "    </tr>\n",
       "    <tr>\n",
       "      <th>1</th>\n",
       "      <td>11.927456</td>\n",
       "      <td>4.690814</td>\n",
       "      <td>0.000000</td>\n",
       "      <td>-11.927456</td>\n",
       "    </tr>\n",
       "    <tr>\n",
       "      <th>2</th>\n",
       "      <td>12.984466</td>\n",
       "      <td>4.888684</td>\n",
       "      <td>1.098612</td>\n",
       "      <td>-11.885854</td>\n",
       "    </tr>\n",
       "    <tr>\n",
       "      <th>3</th>\n",
       "      <td>11.509881</td>\n",
       "      <td>4.645273</td>\n",
       "      <td>0.000000</td>\n",
       "      <td>-11.509881</td>\n",
       "    </tr>\n",
       "    <tr>\n",
       "      <th>4</th>\n",
       "      <td>12.100934</td>\n",
       "      <td>3.864673</td>\n",
       "      <td>1.098612</td>\n",
       "      <td>-11.002322</td>\n",
       "    </tr>\n",
       "  </tbody>\n",
       "</table>\n",
       "</div>"
      ],
      "text/plain": [
       "   population   density     deaths  death_prc\n",
       "0   11.687626  5.325737 -16.118096 -16.118096\n",
       "1   11.927456  4.690814   0.000000 -11.927456\n",
       "2   12.984466  4.888684   1.098612 -11.885854\n",
       "3   11.509881  4.645273   0.000000 -11.509881\n",
       "4   12.100934  3.864673   1.098612 -11.002322"
      ]
     },
     "execution_count": 8,
     "metadata": {},
     "output_type": "execute_result"
    }
   ],
   "source": [
    "log_trans[[\"population\", \"density\", \"deaths\", \"death_prc\"]].head()"
   ]
  },
  {
   "cell_type": "code",
   "execution_count": 9,
   "metadata": {},
   "outputs": [
    {
     "data": {
      "text/html": [
       "<div>\n",
       "<style scoped>\n",
       "    .dataframe tbody tr th:only-of-type {\n",
       "        vertical-align: middle;\n",
       "    }\n",
       "\n",
       "    .dataframe tbody tr th {\n",
       "        vertical-align: top;\n",
       "    }\n",
       "\n",
       "    .dataframe thead th {\n",
       "        text-align: right;\n",
       "    }\n",
       "</style>\n",
       "<table border=\"1\" class=\"dataframe\">\n",
       "  <thead>\n",
       "    <tr style=\"text-align: right;\">\n",
       "      <th></th>\n",
       "      <th>population</th>\n",
       "      <th>density</th>\n",
       "      <th>deaths</th>\n",
       "      <th>death_prc</th>\n",
       "    </tr>\n",
       "  </thead>\n",
       "  <tbody>\n",
       "    <tr>\n",
       "      <th>count</th>\n",
       "      <td>823.000000</td>\n",
       "      <td>823.000000</td>\n",
       "      <td>823.000000</td>\n",
       "      <td>823.000000</td>\n",
       "    </tr>\n",
       "    <tr>\n",
       "      <th>mean</th>\n",
       "      <td>12.184464</td>\n",
       "      <td>5.674172</td>\n",
       "      <td>-2.059859</td>\n",
       "      <td>-11.674516</td>\n",
       "    </tr>\n",
       "    <tr>\n",
       "      <th>std</th>\n",
       "      <td>0.900335</td>\n",
       "      <td>1.204975</td>\n",
       "      <td>7.643905</td>\n",
       "      <td>2.583123</td>\n",
       "    </tr>\n",
       "    <tr>\n",
       "      <th>min</th>\n",
       "      <td>11.044632</td>\n",
       "      <td>1.475446</td>\n",
       "      <td>-16.118096</td>\n",
       "      <td>-16.118096</td>\n",
       "    </tr>\n",
       "    <tr>\n",
       "      <th>25%</th>\n",
       "      <td>11.471227</td>\n",
       "      <td>4.943125</td>\n",
       "      <td>0.000000</td>\n",
       "      <td>-12.253978</td>\n",
       "    </tr>\n",
       "    <tr>\n",
       "      <th>50%</th>\n",
       "      <td>11.978777</td>\n",
       "      <td>5.603942</td>\n",
       "      <td>1.098612</td>\n",
       "      <td>-10.963498</td>\n",
       "    </tr>\n",
       "    <tr>\n",
       "      <th>75%</th>\n",
       "      <td>12.708739</td>\n",
       "      <td>6.324017</td>\n",
       "      <td>2.564949</td>\n",
       "      <td>-9.968105</td>\n",
       "    </tr>\n",
       "    <tr>\n",
       "      <th>max</th>\n",
       "      <td>16.128592</td>\n",
       "      <td>10.231016</td>\n",
       "      <td>9.348100</td>\n",
       "      <td>-6.595493</td>\n",
       "    </tr>\n",
       "  </tbody>\n",
       "</table>\n",
       "</div>"
      ],
      "text/plain": [
       "       population     density      deaths   death_prc\n",
       "count  823.000000  823.000000  823.000000  823.000000\n",
       "mean    12.184464    5.674172   -2.059859  -11.674516\n",
       "std      0.900335    1.204975    7.643905    2.583123\n",
       "min     11.044632    1.475446  -16.118096  -16.118096\n",
       "25%     11.471227    4.943125    0.000000  -12.253978\n",
       "50%     11.978777    5.603942    1.098612  -10.963498\n",
       "75%     12.708739    6.324017    2.564949   -9.968105\n",
       "max     16.128592   10.231016    9.348100   -6.595493"
      ]
     },
     "execution_count": 9,
     "metadata": {},
     "output_type": "execute_result"
    }
   ],
   "source": [
    "log_trans[[\"population\", \"density\", \"deaths\", \"death_prc\"]].describe()"
   ]
  },
  {
   "cell_type": "code",
   "execution_count": 10,
   "metadata": {},
   "outputs": [],
   "source": [
    "predictors = ['household_size', 'empl_agriculture', 'empl_professional','empl_social', 'empl_services', 'empl_manufacturing', 'empl_retail',\n",
    "              'prc_fam_poverty', 'avg_income', 'prc_public_transp', 'population', 'pop_65_plus', 'health_ins', 'area', \n",
    "              'domestic_passengers', 'intl_passengers', 'ten_plus', 'order', 'density']"
   ]
  },
  {
   "cell_type": "code",
   "execution_count": 11,
   "metadata": {},
   "outputs": [],
   "source": [
    "# standard score normalize the predictor data\n",
    "scaler = StandardScaler().fit(abbrev[predictors])\n",
    "X = pd.DataFrame(scaler.transform(abbrev[predictors]), columns=predictors)\n",
    "X_log = pd.DataFrame(scaler.transform(log_trans[predictors]), columns=predictors)"
   ]
  },
  {
   "cell_type": "code",
   "execution_count": 12,
   "metadata": {},
   "outputs": [
    {
     "data": {
      "text/html": [
       "<div>\n",
       "<style scoped>\n",
       "    .dataframe tbody tr th:only-of-type {\n",
       "        vertical-align: middle;\n",
       "    }\n",
       "\n",
       "    .dataframe tbody tr th {\n",
       "        vertical-align: top;\n",
       "    }\n",
       "\n",
       "    .dataframe thead th {\n",
       "        text-align: right;\n",
       "    }\n",
       "</style>\n",
       "<table border=\"1\" class=\"dataframe\">\n",
       "  <thead>\n",
       "    <tr style=\"text-align: right;\">\n",
       "      <th></th>\n",
       "      <th>household_size</th>\n",
       "      <th>empl_agriculture</th>\n",
       "      <th>empl_professional</th>\n",
       "      <th>empl_social</th>\n",
       "      <th>empl_services</th>\n",
       "      <th>empl_manufacturing</th>\n",
       "      <th>empl_retail</th>\n",
       "      <th>prc_fam_poverty</th>\n",
       "      <th>avg_income</th>\n",
       "      <th>prc_public_transp</th>\n",
       "      <th>population</th>\n",
       "      <th>pop_65_plus</th>\n",
       "      <th>health_ins</th>\n",
       "      <th>area</th>\n",
       "      <th>domestic_passengers</th>\n",
       "      <th>intl_passengers</th>\n",
       "      <th>ten_plus</th>\n",
       "      <th>order</th>\n",
       "      <th>density</th>\n",
       "    </tr>\n",
       "  </thead>\n",
       "  <tbody>\n",
       "    <tr>\n",
       "      <th>count</th>\n",
       "      <td>8.230000e+02</td>\n",
       "      <td>8.230000e+02</td>\n",
       "      <td>8.230000e+02</td>\n",
       "      <td>8.230000e+02</td>\n",
       "      <td>8.230000e+02</td>\n",
       "      <td>8.230000e+02</td>\n",
       "      <td>8.230000e+02</td>\n",
       "      <td>8.230000e+02</td>\n",
       "      <td>8.230000e+02</td>\n",
       "      <td>8.230000e+02</td>\n",
       "      <td>8.230000e+02</td>\n",
       "      <td>8.230000e+02</td>\n",
       "      <td>8.230000e+02</td>\n",
       "      <td>8.230000e+02</td>\n",
       "      <td>8.230000e+02</td>\n",
       "      <td>8.230000e+02</td>\n",
       "      <td>8.230000e+02</td>\n",
       "      <td>8.230000e+02</td>\n",
       "      <td>8.230000e+02</td>\n",
       "    </tr>\n",
       "    <tr>\n",
       "      <th>mean</th>\n",
       "      <td>-1.563148e-17</td>\n",
       "      <td>9.618336e-17</td>\n",
       "      <td>-2.695292e-16</td>\n",
       "      <td>9.204194e-16</td>\n",
       "      <td>-1.220166e-16</td>\n",
       "      <td>1.160136e-17</td>\n",
       "      <td>2.441681e-16</td>\n",
       "      <td>-9.712765e-17</td>\n",
       "      <td>-3.283454e-16</td>\n",
       "      <td>-1.510875e-17</td>\n",
       "      <td>2.590071e-17</td>\n",
       "      <td>1.413072e-16</td>\n",
       "      <td>-9.517363e-15</td>\n",
       "      <td>-2.158392e-17</td>\n",
       "      <td>4.532624e-17</td>\n",
       "      <td>-2.784326e-16</td>\n",
       "      <td>4.262825e-17</td>\n",
       "      <td>1.342250e-16</td>\n",
       "      <td>-4.316785e-18</td>\n",
       "    </tr>\n",
       "    <tr>\n",
       "      <th>std</th>\n",
       "      <td>1.000608e+00</td>\n",
       "      <td>1.000608e+00</td>\n",
       "      <td>1.000608e+00</td>\n",
       "      <td>1.000608e+00</td>\n",
       "      <td>1.000608e+00</td>\n",
       "      <td>1.000608e+00</td>\n",
       "      <td>1.000608e+00</td>\n",
       "      <td>1.000608e+00</td>\n",
       "      <td>1.000608e+00</td>\n",
       "      <td>1.000608e+00</td>\n",
       "      <td>1.000608e+00</td>\n",
       "      <td>1.000608e+00</td>\n",
       "      <td>1.000608e+00</td>\n",
       "      <td>1.000608e+00</td>\n",
       "      <td>1.000608e+00</td>\n",
       "      <td>1.000608e+00</td>\n",
       "      <td>1.000608e+00</td>\n",
       "      <td>1.000608e+00</td>\n",
       "      <td>1.000608e+00</td>\n",
       "    </tr>\n",
       "    <tr>\n",
       "      <th>min</th>\n",
       "      <td>-2.763242e+00</td>\n",
       "      <td>-7.138190e-01</td>\n",
       "      <td>-2.817129e+00</td>\n",
       "      <td>-5.030197e+00</td>\n",
       "      <td>-3.468572e+00</td>\n",
       "      <td>-1.894605e+00</td>\n",
       "      <td>-5.734296e+00</td>\n",
       "      <td>-1.826346e+00</td>\n",
       "      <td>-2.246612e+00</td>\n",
       "      <td>-4.516647e-01</td>\n",
       "      <td>-4.278334e-01</td>\n",
       "      <td>-2.109147e+00</td>\n",
       "      <td>-9.930490e+00</td>\n",
       "      <td>-5.813653e-01</td>\n",
       "      <td>-4.529022e-01</td>\n",
       "      <td>-2.621418e-01</td>\n",
       "      <td>-2.632091e+00</td>\n",
       "      <td>-2.902770e+00</td>\n",
       "      <td>-3.973592e-01</td>\n",
       "    </tr>\n",
       "    <tr>\n",
       "      <th>25%</th>\n",
       "      <td>-7.217483e-01</td>\n",
       "      <td>-5.129159e-01</td>\n",
       "      <td>-6.764601e-01</td>\n",
       "      <td>-6.319020e-01</td>\n",
       "      <td>-6.104182e-01</td>\n",
       "      <td>-7.365944e-01</td>\n",
       "      <td>-6.214260e-01</td>\n",
       "      <td>-7.363487e-01</td>\n",
       "      <td>-6.654138e-01</td>\n",
       "      <td>-3.811994e-01</td>\n",
       "      <td>-3.761171e-01</td>\n",
       "      <td>-6.368384e-01</td>\n",
       "      <td>-4.111277e-02</td>\n",
       "      <td>-3.481383e-01</td>\n",
       "      <td>-4.529022e-01</td>\n",
       "      <td>-2.621418e-01</td>\n",
       "      <td>-5.959393e-01</td>\n",
       "      <td>-5.518204e-01</td>\n",
       "      <td>-3.175188e-01</td>\n",
       "    </tr>\n",
       "    <tr>\n",
       "      <th>50%</th>\n",
       "      <td>-1.613383e-01</td>\n",
       "      <td>-3.283267e-01</td>\n",
       "      <td>-1.428487e-01</td>\n",
       "      <td>-1.449382e-01</td>\n",
       "      <td>-1.322056e-01</td>\n",
       "      <td>-1.707755e-01</td>\n",
       "      <td>-4.889213e-02</td>\n",
       "      <td>-1.439586e-01</td>\n",
       "      <td>-1.787571e-01</td>\n",
       "      <td>-2.872456e-01</td>\n",
       "      <td>-2.776482e-01</td>\n",
       "      <td>-9.348539e-02</td>\n",
       "      <td>3.293886e-01</td>\n",
       "      <td>-2.423046e-01</td>\n",
       "      <td>-4.192704e-01</td>\n",
       "      <td>-2.621418e-01</td>\n",
       "      <td>4.035811e-02</td>\n",
       "      <td>-1.369469e-01</td>\n",
       "      <td>-2.403517e-01</td>\n",
       "    </tr>\n",
       "    <tr>\n",
       "      <th>75%</th>\n",
       "      <td>4.791302e-01</td>\n",
       "      <td>1.355948e-01</td>\n",
       "      <td>5.145289e-01</td>\n",
       "      <td>5.198946e-01</td>\n",
       "      <td>4.287507e-01</td>\n",
       "      <td>5.613396e-01</td>\n",
       "      <td>5.505121e-01</td>\n",
       "      <td>5.550616e-01</td>\n",
       "      <td>4.794669e-01</td>\n",
       "      <td>-2.887279e-02</td>\n",
       "      <td>-1.170245e-02</td>\n",
       "      <td>4.479043e-01</td>\n",
       "      <td>4.880274e-01</td>\n",
       "      <td>-8.815729e-02</td>\n",
       "      <td>-2.068709e-01</td>\n",
       "      <td>-2.621418e-01</td>\n",
       "      <td>6.766555e-01</td>\n",
       "      <td>8.310913e-01</td>\n",
       "      <td>-7.206297e-02</td>\n",
       "    </tr>\n",
       "    <tr>\n",
       "      <th>max</th>\n",
       "      <td>6.083230e+00</td>\n",
       "      <td>8.759080e+00</td>\n",
       "      <td>5.592866e+00</td>\n",
       "      <td>4.703169e+00</td>\n",
       "      <td>8.005615e+00</td>\n",
       "      <td>5.621149e+00</td>\n",
       "      <td>4.852515e+00</td>\n",
       "      <td>4.832118e+00</td>\n",
       "      <td>5.120250e+00</td>\n",
       "      <td>1.267038e+01</td>\n",
       "      <td>1.516502e+01</td>\n",
       "      <td>9.451954e+00</td>\n",
       "      <td>7.808444e-01</td>\n",
       "      <td>1.294436e+01</td>\n",
       "      <td>4.705967e+00</td>\n",
       "      <td>9.753145e+00</td>\n",
       "      <td>3.094586e+00</td>\n",
       "      <td>1.660838e+00</td>\n",
       "      <td>1.591125e+01</td>\n",
       "    </tr>\n",
       "  </tbody>\n",
       "</table>\n",
       "</div>"
      ],
      "text/plain": [
       "       household_size  empl_agriculture  empl_professional   empl_social  \\\n",
       "count    8.230000e+02      8.230000e+02       8.230000e+02  8.230000e+02   \n",
       "mean    -1.563148e-17      9.618336e-17      -2.695292e-16  9.204194e-16   \n",
       "std      1.000608e+00      1.000608e+00       1.000608e+00  1.000608e+00   \n",
       "min     -2.763242e+00     -7.138190e-01      -2.817129e+00 -5.030197e+00   \n",
       "25%     -7.217483e-01     -5.129159e-01      -6.764601e-01 -6.319020e-01   \n",
       "50%     -1.613383e-01     -3.283267e-01      -1.428487e-01 -1.449382e-01   \n",
       "75%      4.791302e-01      1.355948e-01       5.145289e-01  5.198946e-01   \n",
       "max      6.083230e+00      8.759080e+00       5.592866e+00  4.703169e+00   \n",
       "\n",
       "       empl_services  empl_manufacturing   empl_retail  prc_fam_poverty  \\\n",
       "count   8.230000e+02        8.230000e+02  8.230000e+02     8.230000e+02   \n",
       "mean   -1.220166e-16        1.160136e-17  2.441681e-16    -9.712765e-17   \n",
       "std     1.000608e+00        1.000608e+00  1.000608e+00     1.000608e+00   \n",
       "min    -3.468572e+00       -1.894605e+00 -5.734296e+00    -1.826346e+00   \n",
       "25%    -6.104182e-01       -7.365944e-01 -6.214260e-01    -7.363487e-01   \n",
       "50%    -1.322056e-01       -1.707755e-01 -4.889213e-02    -1.439586e-01   \n",
       "75%     4.287507e-01        5.613396e-01  5.505121e-01     5.550616e-01   \n",
       "max     8.005615e+00        5.621149e+00  4.852515e+00     4.832118e+00   \n",
       "\n",
       "         avg_income  prc_public_transp    population   pop_65_plus  \\\n",
       "count  8.230000e+02       8.230000e+02  8.230000e+02  8.230000e+02   \n",
       "mean  -3.283454e-16      -1.510875e-17  2.590071e-17  1.413072e-16   \n",
       "std    1.000608e+00       1.000608e+00  1.000608e+00  1.000608e+00   \n",
       "min   -2.246612e+00      -4.516647e-01 -4.278334e-01 -2.109147e+00   \n",
       "25%   -6.654138e-01      -3.811994e-01 -3.761171e-01 -6.368384e-01   \n",
       "50%   -1.787571e-01      -2.872456e-01 -2.776482e-01 -9.348539e-02   \n",
       "75%    4.794669e-01      -2.887279e-02 -1.170245e-02  4.479043e-01   \n",
       "max    5.120250e+00       1.267038e+01  1.516502e+01  9.451954e+00   \n",
       "\n",
       "         health_ins          area  domestic_passengers  intl_passengers  \\\n",
       "count  8.230000e+02  8.230000e+02         8.230000e+02     8.230000e+02   \n",
       "mean  -9.517363e-15 -2.158392e-17         4.532624e-17    -2.784326e-16   \n",
       "std    1.000608e+00  1.000608e+00         1.000608e+00     1.000608e+00   \n",
       "min   -9.930490e+00 -5.813653e-01        -4.529022e-01    -2.621418e-01   \n",
       "25%   -4.111277e-02 -3.481383e-01        -4.529022e-01    -2.621418e-01   \n",
       "50%    3.293886e-01 -2.423046e-01        -4.192704e-01    -2.621418e-01   \n",
       "75%    4.880274e-01 -8.815729e-02        -2.068709e-01    -2.621418e-01   \n",
       "max    7.808444e-01  1.294436e+01         4.705967e+00     9.753145e+00   \n",
       "\n",
       "           ten_plus         order       density  \n",
       "count  8.230000e+02  8.230000e+02  8.230000e+02  \n",
       "mean   4.262825e-17  1.342250e-16 -4.316785e-18  \n",
       "std    1.000608e+00  1.000608e+00  1.000608e+00  \n",
       "min   -2.632091e+00 -2.902770e+00 -3.973592e-01  \n",
       "25%   -5.959393e-01 -5.518204e-01 -3.175188e-01  \n",
       "50%    4.035811e-02 -1.369469e-01 -2.403517e-01  \n",
       "75%    6.766555e-01  8.310913e-01 -7.206297e-02  \n",
       "max    3.094586e+00  1.660838e+00  1.591125e+01  "
      ]
     },
     "execution_count": 12,
     "metadata": {},
     "output_type": "execute_result"
    }
   ],
   "source": [
    "X.describe()"
   ]
  },
  {
   "cell_type": "code",
   "execution_count": 13,
   "metadata": {},
   "outputs": [],
   "source": [
    "y = abbrev[\"deaths\"]\n",
    "y_prc = abbrev[\"death_prc\"]\n",
    "y_log = log_trans[\"deaths\"]\n",
    "y_log_prc = log_trans[\"death_prc\"]"
   ]
  },
  {
   "cell_type": "markdown",
   "metadata": {},
   "source": [
    "### Linear Regression"
   ]
  },
  {
   "cell_type": "code",
   "execution_count": 14,
   "metadata": {},
   "outputs": [
    {
     "data": {
      "text/plain": [
       "0.5403920042426926"
      ]
     },
     "execution_count": 14,
     "metadata": {},
     "output_type": "execute_result"
    }
   ],
   "source": [
    "lrm = LinearRegression().fit(X, y)\n",
    "lrm.score(X, y)"
   ]
  },
  {
   "cell_type": "code",
   "execution_count": 15,
   "metadata": {},
   "outputs": [
    {
     "name": "stdout",
     "output_type": "stream",
     "text": [
      "household_size \t 28.968067057984335\n",
      "empl_agriculture \t 6.918465800092834\n",
      "empl_professional \t -71.60569497930568\n",
      "empl_social \t 19.076759054195847\n",
      "empl_services \t 1.7843686519807638\n",
      "empl_manufacturing \t -5.625714042373956\n",
      "empl_retail \t 1.6856880396875265\n",
      "prc_fam_poverty \t -51.1263705754051\n",
      "avg_income \t -28.507791118862666\n",
      "prc_public_transp \t -19.995121965294818\n",
      "population \t 146.7841311219609\n",
      "pop_65_plus \t 29.416274508758093\n",
      "health_ins \t -0.08832137685987934\n",
      "area \t -14.830700261506749\n",
      "domestic_passengers \t -111.63457397445528\n",
      "intl_passengers \t 115.32284826250077\n",
      "ten_plus \t -25.881627433347003\n",
      "order \t -5.716752898122561\n",
      "density \t 238.519268458166\n"
     ]
    }
   ],
   "source": [
    "for a,b in zip(predictors, lrm.coef_):\n",
    "    print(a, \"\\t\", b)"
   ]
  },
  {
   "cell_type": "code",
   "execution_count": 16,
   "metadata": {},
   "outputs": [
    {
     "data": {
      "text/plain": [
       "0.4176098844380915"
      ]
     },
     "execution_count": 16,
     "metadata": {},
     "output_type": "execute_result"
    }
   ],
   "source": [
    "lrm_prc = LinearRegression().fit(X, y_prc)\n",
    "lrm_prc.score(X, y_prc)"
   ]
  },
  {
   "cell_type": "code",
   "execution_count": 17,
   "metadata": {},
   "outputs": [
    {
     "data": {
      "text/plain": [
       "0.36644400597395915"
      ]
     },
     "execution_count": 17,
     "metadata": {},
     "output_type": "execute_result"
    }
   ],
   "source": [
    "lrm_logy = LinearRegression().fit(X, y_log)\n",
    "lrm_logy.score(X, y_log)"
   ]
  },
  {
   "cell_type": "code",
   "execution_count": 18,
   "metadata": {},
   "outputs": [
    {
     "data": {
      "text/plain": [
       "0.3853187097087529"
      ]
     },
     "execution_count": 18,
     "metadata": {},
     "output_type": "execute_result"
    }
   ],
   "source": [
    "lrm_log = LinearRegression().fit(X_log, y_log)\n",
    "lrm_log.score(X_log, y_log)"
   ]
  },
  {
   "cell_type": "code",
   "execution_count": 19,
   "metadata": {},
   "outputs": [
    {
     "data": {
      "text/plain": [
       "0.3735355664309719"
      ]
     },
     "execution_count": 19,
     "metadata": {},
     "output_type": "execute_result"
    }
   ],
   "source": [
    "lrm_log_prc = LinearRegression().fit(X_log, y_log_prc)\n",
    "lrm_log_prc.score(X_log, y_log_prc)"
   ]
  },
  {
   "cell_type": "code",
   "execution_count": 20,
   "metadata": {},
   "outputs": [
    {
     "data": {
      "text/plain": [
       "0.37270174570160786"
      ]
     },
     "execution_count": 20,
     "metadata": {},
     "output_type": "execute_result"
    }
   ],
   "source": [
    "lrm_log = LinearRegression().fit(X_log, y)\n",
    "lrm_log.score(X_log, y)"
   ]
  },
  {
   "cell_type": "code",
   "execution_count": 21,
   "metadata": {},
   "outputs": [
    {
     "data": {
      "text/plain": [
       "0.4207429978378541"
      ]
     },
     "execution_count": 21,
     "metadata": {},
     "output_type": "execute_result"
    }
   ],
   "source": [
    "lrm_log = LinearRegression().fit(X_log, y_prc)\n",
    "lrm_log.score(X_log, y_prc)"
   ]
  },
  {
   "cell_type": "code",
   "execution_count": 22,
   "metadata": {},
   "outputs": [
    {
     "data": {
      "text/plain": [
       "0.5403920042426926"
      ]
     },
     "execution_count": 22,
     "metadata": {},
     "output_type": "execute_result"
    }
   ],
   "source": [
    "lrm_raw = LinearRegression().fit(abbrev[predictors], y)\n",
    "lrm_raw.score(abbrev[predictors], y)"
   ]
  },
  {
   "cell_type": "code",
   "execution_count": 23,
   "metadata": {},
   "outputs": [
    {
     "data": {
      "text/plain": [
       "0.4176098844380915"
      ]
     },
     "execution_count": 23,
     "metadata": {},
     "output_type": "execute_result"
    }
   ],
   "source": [
    "lrm_raw = LinearRegression().fit(abbrev[predictors], y_prc)\n",
    "lrm_raw.score(abbrev[predictors], y_prc)"
   ]
  },
  {
   "cell_type": "code",
   "execution_count": 24,
   "metadata": {},
   "outputs": [
    {
     "data": {
      "text/plain": [
       "0.36644400597395915"
      ]
     },
     "execution_count": 24,
     "metadata": {},
     "output_type": "execute_result"
    }
   ],
   "source": [
    "lrm_raw = LinearRegression().fit(abbrev[predictors], y_log)\n",
    "lrm_raw.score(abbrev[predictors], y_log)"
   ]
  },
  {
   "cell_type": "code",
   "execution_count": 25,
   "metadata": {},
   "outputs": [
    {
     "data": {
      "text/plain": [
       "0.36566570880352633"
      ]
     },
     "execution_count": 25,
     "metadata": {},
     "output_type": "execute_result"
    }
   ],
   "source": [
    "lrm_raw = LinearRegression().fit(abbrev[predictors], y_log_prc)\n",
    "lrm_raw.score(abbrev[predictors], y_log_prc)"
   ]
  },
  {
   "cell_type": "markdown",
   "metadata": {},
   "source": [
    "### Elastic Net\n",
    "\n",
    "#### ElasticNetCV"
   ]
  },
  {
   "cell_type": "code",
   "execution_count": 26,
   "metadata": {},
   "outputs": [
    {
     "data": {
      "text/plain": [
       "ElasticNetCV(alphas=None, copy_X=True, cv=5, eps=0.001, fit_intercept=True,\n",
       "             l1_ratio=0.5, max_iter=60000, n_alphas=100, n_jobs=None,\n",
       "             normalize=True, positive=False, precompute='auto',\n",
       "             random_state=101, selection='cyclic', tol=0.0001, verbose=0)"
      ]
     },
     "execution_count": 26,
     "metadata": {},
     "output_type": "execute_result"
    }
   ],
   "source": [
    "encv = ElasticNetCV(normalize=True, max_iter=60000, random_state=101, cv=5)\n",
    "encv.fit(X, y)"
   ]
  },
  {
   "cell_type": "code",
   "execution_count": 27,
   "metadata": {},
   "outputs": [
    {
     "data": {
      "text/plain": [
       "0.19587609278319784"
      ]
     },
     "execution_count": 27,
     "metadata": {},
     "output_type": "execute_result"
    }
   ],
   "source": [
    "encv.score(X, y)\n",
    "# yikes, bad"
   ]
  },
  {
   "cell_type": "code",
   "execution_count": 28,
   "metadata": {},
   "outputs": [
    {
     "data": {
      "text/plain": [
       "0.15756278222573383"
      ]
     },
     "execution_count": 28,
     "metadata": {},
     "output_type": "execute_result"
    }
   ],
   "source": [
    "# try with cv=3\n",
    "encv = ElasticNetCV(normalize=True, max_iter=60000, random_state=101, cv=3)\n",
    "encv.fit(X, y)\n",
    "encv.score(X, y)\n",
    "# and not better"
   ]
  },
  {
   "cell_type": "code",
   "execution_count": 29,
   "metadata": {},
   "outputs": [
    {
     "data": {
      "text/plain": [
       "0.19587609278319784"
      ]
     },
     "execution_count": 29,
     "metadata": {},
     "output_type": "execute_result"
    }
   ],
   "source": [
    "# try with cv=7\n",
    "encv = ElasticNetCV(normalize=True, max_iter=60000, random_state=101, cv=7)\n",
    "encv.fit(X, y)\n",
    "encv.score(X, y)\n",
    "# and not better"
   ]
  },
  {
   "cell_type": "markdown",
   "metadata": {},
   "source": [
    "#### ElasticNet with GridSearchCV"
   ]
  },
  {
   "cell_type": "code",
   "execution_count": 41,
   "metadata": {},
   "outputs": [],
   "source": [
    "param_grid = [{'l1_ratio':[0.1, 0.3, 0.5, 0.7, 0.9]}]\n",
    "enm = ElasticNet(normalize=True, max_iter=60000, random_state=101)\n",
    "scorer = make_scorer(r2_score)\n",
    "search = GridSearchCV(enm, param_grid, cv=3, scoring=scorer).fit(abbrev[predictors], abbrev[\"deaths\"])"
   ]
  },
  {
   "cell_type": "code",
   "execution_count": 42,
   "metadata": {},
   "outputs": [
    {
     "data": {
      "text/plain": [
       "GridSearchCV(cv=3, error_score='raise-deprecating',\n",
       "             estimator=ElasticNet(alpha=1.0, copy_X=True, fit_intercept=True,\n",
       "                                  l1_ratio=0.5, max_iter=60000, normalize=True,\n",
       "                                  positive=False, precompute=False,\n",
       "                                  random_state=101, selection='cyclic',\n",
       "                                  tol=0.0001, warm_start=False),\n",
       "             iid='warn', n_jobs=None,\n",
       "             param_grid=[{'l1_ratio': [0.1, 0.3, 0.5, 0.7, 0.9]}],\n",
       "             pre_dispatch='2*n_jobs', refit=True, return_train_score=False,\n",
       "             scoring=make_scorer(r2_score), verbose=0)"
      ]
     },
     "execution_count": 42,
     "metadata": {},
     "output_type": "execute_result"
    }
   ],
   "source": [
    "search"
   ]
  },
  {
   "cell_type": "code",
   "execution_count": 43,
   "metadata": {},
   "outputs": [
    {
     "data": {
      "text/plain": [
       "{'l1_ratio': 0.9}"
      ]
     },
     "execution_count": 43,
     "metadata": {},
     "output_type": "execute_result"
    }
   ],
   "source": [
    "search.best_params_"
   ]
  },
  {
   "cell_type": "code",
   "execution_count": 44,
   "metadata": {},
   "outputs": [
    {
     "data": {
      "text/plain": [
       "ElasticNet(alpha=1.0, copy_X=True, fit_intercept=True, l1_ratio=0.9,\n",
       "           max_iter=60000, normalize=True, positive=False, precompute=False,\n",
       "           random_state=101, selection='cyclic', tol=0.0001, warm_start=False)"
      ]
     },
     "execution_count": 44,
     "metadata": {},
     "output_type": "execute_result"
    }
   ],
   "source": [
    "search.best_estimator_"
   ]
  },
  {
   "cell_type": "code",
   "execution_count": 45,
   "metadata": {},
   "outputs": [
    {
     "data": {
      "text/plain": [
       "0.07931775070155091"
      ]
     },
     "execution_count": 45,
     "metadata": {},
     "output_type": "execute_result"
    }
   ],
   "source": [
    "search.best_score_\n",
    "# yikes, not good, ElasticNetCV\n",
    "# with CV=10 l1_ratio=0.9, score=0.0373\n",
    "# with CV=5 l1_ratio=0.9, score=0.0544\n",
    "# with CV=3 l1_ratio=0.9, score=0.0793"
   ]
  },
  {
   "cell_type": "code",
   "execution_count": null,
   "metadata": {},
   "outputs": [],
   "source": [
    "enm = ElasticNet(random_state=101, max_iter=60000)\n",
    "enm.fit(X, y)\n",
    "enm.score(X, y)\n",
    "# cross validation hard, likes overfitting :)"
   ]
  },
  {
   "cell_type": "code",
   "execution_count": null,
   "metadata": {},
   "outputs": [],
   "source": [
    "for a, b in zip(predictors, enm.coef_):\n",
    "    print(a, \"\\t\", b)"
   ]
  },
  {
   "cell_type": "markdown",
   "metadata": {},
   "source": [
    "### Random Forest"
   ]
  },
  {
   "cell_type": "code",
   "execution_count": null,
   "metadata": {},
   "outputs": [],
   "source": [
    "# need to rerun with a pipeline to apply normalization to subset in the CV fold used for training!"
   ]
  },
  {
   "cell_type": "code",
   "execution_count": null,
   "metadata": {},
   "outputs": [],
   "source": [
    "rfm = RandomForestRegressor(random_state=1001, oob_score=True)\n",
    "param_grid = {\n",
    "    'max_depth':[5, 10, 15, 20, 25, 30],\n",
    "    'max_features': [2, 3],\n",
    "    'min_samples_leaf': [3, 4, 5],\n",
    "    'min_samples_split': [8, 10, 12],\n",
    "    'n_estimators': [50, 100, 200, 300, 1000]\n",
    "}\n",
    "grid_search = GridSearchCV(estimator=rfm, param_grid=param_grid, cv=3, scoring=scorer)\n",
    "grid_search.fit(X, y)\n"
   ]
  },
  {
   "cell_type": "code",
   "execution_count": null,
   "metadata": {},
   "outputs": [],
   "source": [
    "grid_search.best_params_"
   ]
  },
  {
   "cell_type": "code",
   "execution_count": null,
   "metadata": {},
   "outputs": [],
   "source": [
    "pred = grid_search.best_estimator_.predict(X)\n",
    "r2_score(y, pred)"
   ]
  },
  {
   "cell_type": "code",
   "execution_count": null,
   "metadata": {},
   "outputs": [],
   "source": [
    "exam[[\"pred\", \"deaths\"]]"
   ]
  },
  {
   "cell_type": "code",
   "execution_count": null,
   "metadata": {},
   "outputs": [],
   "source": [
    "exam[\"delta\"] = exam[\"deaths\"] - exam[\"pred\"]"
   ]
  },
  {
   "cell_type": "code",
   "execution_count": null,
   "metadata": {},
   "outputs": [],
   "source": [
    "exam[exam[\"delta\"] > 5].shape[0]"
   ]
  },
  {
   "cell_type": "code",
   "execution_count": null,
   "metadata": {},
   "outputs": [],
   "source": [
    "exam[exam[\"delta\"] < -5].shape[0]"
   ]
  },
  {
   "cell_type": "code",
   "execution_count": null,
   "metadata": {},
   "outputs": [],
   "source": [
    "exam[(exam[\"delta\"] > -5) & (exam[\"delta\"] < 5)].shape[0] # more are within 5 deaths of actual count than aren't"
   ]
  },
  {
   "cell_type": "code",
   "execution_count": null,
   "metadata": {},
   "outputs": [],
   "source": [
    "exam[exam[\"delta\"] > 10].shape[0]"
   ]
  },
  {
   "cell_type": "code",
   "execution_count": null,
   "metadata": {},
   "outputs": [],
   "source": [
    "exam[exam[\"delta\"] < -10].shape[0]"
   ]
  },
  {
   "cell_type": "code",
   "execution_count": null,
   "metadata": {},
   "outputs": [],
   "source": [
    "exam[(exam[\"delta\"] > -10) & (exam[\"delta\"] < 10)].shape[0] # more than twice as many are within 10 deaths of actual count than those that aren't"
   ]
  },
  {
   "cell_type": "code",
   "execution_count": null,
   "metadata": {},
   "outputs": [],
   "source": []
  },
  {
   "cell_type": "code",
   "execution_count": null,
   "metadata": {},
   "outputs": [],
   "source": [
    "exam = X\n",
    "exam[\"pred\"] = pred\n",
    "exam[\"deaths\"] = y"
   ]
  },
  {
   "cell_type": "code",
   "execution_count": null,
   "metadata": {},
   "outputs": [],
   "source": [
    "exam.head()"
   ]
  },
  {
   "cell_type": "code",
   "execution_count": null,
   "metadata": {},
   "outputs": [],
   "source": [
    "#rfm.fit(X, y)\n",
    "#rfm.score(X, y)\n",
    "# .665\n"
   ]
  },
  {
   "cell_type": "code",
   "execution_count": null,
   "metadata": {},
   "outputs": [],
   "source": [
    "for a, b in zip(predictors, grid_search.best_estimator_.feature_importances_):\n",
    "    print(a, \"\\t\", b)"
   ]
  },
  {
   "cell_type": "code",
   "execution_count": null,
   "metadata": {},
   "outputs": [],
   "source": [
    "estimator = grid_search.best_estimator_.estimators_[5]\n",
    "# https://medium.com/@anthonycarlleston/visualizing-the-decisiontrees-in-randomforestregressor-in-a-pipeline-with-python-f5519f80e3f8\n",
    "# https://scikit-learn.org/stable/modules/tree.html\n",
    "\n",
    "from sklearn.externals.six import StringIO  \n",
    "from IPython.display import Image  \n",
    "from sklearn.tree import export_graphviz\n",
    "import pydotplus\n",
    "import os\n",
    "\n",
    "os.environ['PATH'] = os.environ['PATH']+';'+os.environ['CONDA_PREFIX']+r\"\\Library\\bin\\graphviz\"\n",
    "dot_data = StringIO()\n",
    "export_graphviz(estimator, feature_names=predictors, out_file=dot_data)\n",
    "graph = pydotplus.graph_from_dot_data(dot_data.getvalue()) \n",
    "Image(graph.create_png())"
   ]
  },
  {
   "cell_type": "code",
   "execution_count": null,
   "metadata": {},
   "outputs": [],
   "source": []
  }
 ],
 "metadata": {
  "kernelspec": {
   "display_name": "Python 3",
   "language": "python",
   "name": "python3"
  },
  "language_info": {
   "codemirror_mode": {
    "name": "ipython",
    "version": 3
   },
   "file_extension": ".py",
   "mimetype": "text/x-python",
   "name": "python",
   "nbconvert_exporter": "python",
   "pygments_lexer": "ipython3",
   "version": "3.7.3"
  }
 },
 "nbformat": 4,
 "nbformat_minor": 4
}
