{
 "cells": [
  {
   "cell_type": "markdown",
   "metadata": {},
   "source": [
    "fatality rate?  total infections? total deaths?\n",
    "\n",
    "\n",
    "model: fatalities?  (estimate from curves.. when do get peak, how much time has elapsed?)\n",
    "infection rate?"
   ]
  }
 ],
 "metadata": {
  "kernelspec": {
   "display_name": "Python 3",
   "language": "python",
   "name": "python3"
  },
  "language_info": {
   "codemirror_mode": {
    "name": "ipython",
    "version": 3
   },
   "file_extension": ".py",
   "mimetype": "text/x-python",
   "name": "python",
   "nbconvert_exporter": "python",
   "pygments_lexer": "ipython3",
   "version": "3.7.3"
  }
 },
 "nbformat": 4,
 "nbformat_minor": 4
}
