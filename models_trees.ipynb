{
 "cells": [
  {
   "cell_type": "code",
   "execution_count": 56,
   "metadata": {},
   "outputs": [],
   "source": [
    "import pandas as pd\n",
    "import numpy as np \n",
    "from sklearn.preprocessing import StandardScaler, PolynomialFeatures\n",
    "from sklearn.tree import DecisionTreeRegressor\n",
    "from sklearn.ensemble import RandomForestRegressor\n",
    "from sklearn.model_selection import GridSearchCV, cross_val_score\n",
    "from sklearn.metrics import make_scorer, r2_score, mean_squared_error, median_absolute_error\n",
    "from sklearn.pipeline import Pipeline"
   ]
  },
  {
   "cell_type": "code",
   "execution_count": 2,
   "metadata": {},
   "outputs": [
    {
     "data": {
      "text/plain": [
       "Index(['Unnamed: 0', 'household_size', 'empl_agriculture', 'empl_professional',\n",
       "       'empl_social', 'empl_services', 'empl_manufacturing', 'empl_retail',\n",
       "       'prc_fam_poverty', 'avg_income', 'prc_public_transp', 'population',\n",
       "       'pop_65_plus', 'health_ins', 'county', 'state', 'area', 'prc_obese',\n",
       "       'domestic_passengers', 'intl_passengers', 'deaths', 'cases_march1',\n",
       "       'cases_march15', 'cases_april1', 'ten_plus', 'order', 'density',\n",
       "       'death_prc'],\n",
       "      dtype='object')"
      ]
     },
     "execution_count": 2,
     "metadata": {},
     "output_type": "execute_result"
    }
   ],
   "source": [
    "abbrev = pd.read_csv(\"data/abbrev.csv\")\n",
    "abbrev.columns"
   ]
  },
  {
   "cell_type": "code",
   "execution_count": 3,
   "metadata": {},
   "outputs": [],
   "source": [
    "abbrev = abbrev.drop('Unnamed: 0', axis=1)"
   ]
  },
  {
   "cell_type": "code",
   "execution_count": 4,
   "metadata": {},
   "outputs": [
    {
     "data": {
      "text/plain": [
       "['household_size',\n",
       " 'empl_agriculture',\n",
       " 'empl_professional',\n",
       " 'empl_social',\n",
       " 'empl_services',\n",
       " 'empl_manufacturing',\n",
       " 'empl_retail',\n",
       " 'prc_fam_poverty',\n",
       " 'avg_income',\n",
       " 'prc_public_transp',\n",
       " 'population',\n",
       " 'pop_65_plus',\n",
       " 'health_ins',\n",
       " 'area',\n",
       " 'domestic_passengers',\n",
       " 'intl_passengers',\n",
       " 'prc_obese',\n",
       " 'ten_plus',\n",
       " 'order',\n",
       " 'density']"
      ]
     },
     "execution_count": 4,
     "metadata": {},
     "output_type": "execute_result"
    }
   ],
   "source": [
    "predictors = ['household_size', 'empl_agriculture', 'empl_professional','empl_social', 'empl_services', 'empl_manufacturing', 'empl_retail',\n",
    "              'prc_fam_poverty', 'avg_income', 'prc_public_transp', 'population', 'pop_65_plus', 'health_ins', 'area', \n",
    "              'domestic_passengers', 'intl_passengers', 'prc_obese', 'ten_plus', 'order', 'density', 'cases_march1',\n",
    "             'cases_march15']\n",
    "# omitting april1 cases data, since it's pretty much perfectly correlated...\n",
    "\n",
    "predictors_noCaseData = predictors.copy()\n",
    "predictors_noCaseData.remove('cases_march1')\n",
    "predictors_noCaseData.remove('cases_march15')\n",
    "predictors_noCaseData"
   ]
  },
  {
   "cell_type": "code",
   "execution_count": 5,
   "metadata": {},
   "outputs": [],
   "source": [
    "abbrev.loc[abbrev[\"intl_passengers\"] == 0, \"intl_passengers\"] = 0.0000001\n",
    "abbrev.loc[abbrev[\"domestic_passengers\"] == 0, \"domestic_passengers\"] = 0.0000001\n",
    "abbrev.loc[abbrev[\"cases_march1\"] == 0, \"cases_march1\"] = 0.0000001\n",
    "abbrev.loc[abbrev[\"cases_march15\"] == 0, \"cases_march15\"] = 0.0000001\n",
    "\n",
    "transform = [\"population\", \"density\", \"intl_passengers\", \"domestic_passengers\", \"area\", \n",
    "            \"cases_march1\", \"cases_march15\"]\n",
    "for field in transform:\n",
    "    abbrev[\"log_\"+field] = np.log1p(abbrev[field])"
   ]
  },
  {
   "cell_type": "code",
   "execution_count": 6,
   "metadata": {},
   "outputs": [
    {
     "name": "stdout",
     "output_type": "stream",
     "text": [
      "['household_size', 'empl_agriculture', 'empl_professional', 'empl_social', 'empl_services', 'empl_manufacturing', 'empl_retail', 'prc_fam_poverty', 'avg_income', 'prc_public_transp', 'pop_65_plus', 'health_ins', 'prc_obese', 'ten_plus', 'order', 'log_population', 'log_density', 'log_intl_passengers', 'log_domestic_passengers', 'log_area', 'log_cases_march1', 'log_cases_march15']\n"
     ]
    }
   ],
   "source": [
    "log_predictors = predictors.copy()\n",
    "for field in transform:\n",
    "    log_predictors.remove(field)\n",
    "    log_predictors.append(\"log_\"+field)\n",
    "print(log_predictors)"
   ]
  },
  {
   "cell_type": "code",
   "execution_count": 7,
   "metadata": {},
   "outputs": [
    {
     "name": "stdout",
     "output_type": "stream",
     "text": [
      "['household_size', 'empl_agriculture', 'empl_professional', 'empl_social', 'empl_services', 'empl_manufacturing', 'empl_retail', 'prc_fam_poverty', 'avg_income', 'prc_public_transp', 'pop_65_plus', 'health_ins', 'prc_obese', 'ten_plus', 'order', 'log_population', 'log_density', 'log_intl_passengers', 'log_domestic_passengers', 'log_area']\n"
     ]
    }
   ],
   "source": [
    "log_predictors_noCaseData = log_predictors.copy()\n",
    "log_predictors_noCaseData.remove('log_cases_march1')\n",
    "log_predictors_noCaseData.remove('log_cases_march15')\n",
    "print(log_predictors_noCaseData)"
   ]
  },
  {
   "cell_type": "code",
   "execution_count": 8,
   "metadata": {},
   "outputs": [],
   "source": [
    "import re\n",
    "def get_col_name(feature_set, name):\n",
    "    number = re.compile(\"x(\\d+)\")\n",
    "    matched = number.match(name)\n",
    "    if matched:\n",
    "        n = int(matched.group(1))\n",
    "        col_name = feature_set[n]\n",
    "    else:\n",
    "        col_name = \"X\"\n",
    "    return col_name\n",
    "\n",
    "def transform_name(feature_set, name):\n",
    "    interaction = re.compile(\"(\\w+) (\\w+)\")\n",
    "    matched = interaction.match(name)\n",
    "    col_name = \"\"\n",
    "    if matched:\n",
    "        name1 = get_col_name(feature_set, matched.group(1))\n",
    "        name2 = get_col_name(feature_set, matched.group(2))\n",
    "        col_name = name1 + \":\" + name2\n",
    "    else:\n",
    "        col_name = get_col_name(feature_set, name)\n",
    "    return col_name"
   ]
  },
  {
   "cell_type": "code",
   "execution_count": 9,
   "metadata": {},
   "outputs": [],
   "source": [
    "poly = PolynomialFeatures(interaction_only=True)\n",
    "scaler = StandardScaler()\n",
    "# https://stats.stackexchange.com/questions/29781/when-conducting-multiple-regression-when-should-you-center-your-predictor-varia\n",
    "# https://stats.stackexchange.com/questions/25690/multiple-linear-regression-for-hypothesis-testing#25707\n",
    "\n",
    "scaler.fit(abbrev[predictors])\n",
    "inter = pd.DataFrame(poly.fit_transform(scaler.transform(abbrev[predictors])), \n",
    "                     columns=[transform_name(predictors, x) for x in poly.get_feature_names()])\n",
    "\n",
    "scaler.fit(abbrev[predictors_noCaseData])\n",
    "inter_noCases = pd.DataFrame(poly.fit_transform(scaler.transform(abbrev[predictors_noCaseData])), \n",
    "                             columns=[transform_name(predictors_noCaseData, x) for x in poly.get_feature_names()])\n",
    "\n",
    "scaler.fit(abbrev[log_predictors])\n",
    "inter_log = pd.DataFrame(poly.fit_transform(scaler.transform(abbrev[log_predictors])), \n",
    "                         columns=[transform_name(log_predictors, x) for x in poly.get_feature_names()])\n",
    "\n",
    "scaler.fit(abbrev[log_predictors_noCaseData])\n",
    "inter_log_noCases = pd.DataFrame(poly.fit_transform(scaler.transform(abbrev[log_predictors_noCaseData])), \n",
    "                                 columns=[transform_name(log_predictors_noCaseData, x) for x in poly.get_feature_names()])"
   ]
  },
  {
   "cell_type": "code",
   "execution_count": 10,
   "metadata": {},
   "outputs": [],
   "source": [
    "inter = inter.drop(\"X\", axis=1)\n",
    "inter_noCases = inter_noCases.drop(\"X\", axis=1)\n",
    "inter_log = inter_log.drop(\"X\", axis=1)\n",
    "inter_log_noCases = inter_log_noCases.drop(\"X\", axis=1)"
   ]
  },
  {
   "cell_type": "code",
   "execution_count": 11,
   "metadata": {},
   "outputs": [],
   "source": [
    "x_data = [abbrev[predictors_noCaseData], abbrev[predictors], abbrev[log_predictors_noCaseData], abbrev[log_predictors],  \n",
    "          inter_noCases, inter, inter_log_noCases,  inter_log]\n",
    "labels = [\"no case data\", \"with case data\", \"log predictors, no case data\", \"log predictors, with case data\", \n",
    "          \"no case data, with interactions\", \"with case data, with interactions\", \n",
    "          \"log predictors, no case data, with interactions\", \"log predictors, with case data, with interactions\"]"
   ]
  },
  {
   "cell_type": "markdown",
   "metadata": {},
   "source": [
    "## Decision Trees"
   ]
  },
  {
   "cell_type": "code",
   "execution_count": 36,
   "metadata": {},
   "outputs": [
    {
     "name": "stderr",
     "output_type": "stream",
     "text": [
      "/home/anna/anaconda3/lib/python3.7/site-packages/sklearn/model_selection/_search.py:814: DeprecationWarning: The default of the `iid` parameter will change from True to False in version 0.22 and will be removed in 0.24. This will change numeric results when test-set sizes are unequal.\n",
      "  DeprecationWarning)\n",
      "/home/anna/anaconda3/lib/python3.7/site-packages/sklearn/model_selection/_search.py:814: DeprecationWarning: The default of the `iid` parameter will change from True to False in version 0.22 and will be removed in 0.24. This will change numeric results when test-set sizes are unequal.\n",
      "  DeprecationWarning)\n",
      "/home/anna/anaconda3/lib/python3.7/site-packages/sklearn/model_selection/_search.py:814: DeprecationWarning: The default of the `iid` parameter will change from True to False in version 0.22 and will be removed in 0.24. This will change numeric results when test-set sizes are unequal.\n",
      "  DeprecationWarning)\n",
      "/home/anna/anaconda3/lib/python3.7/site-packages/sklearn/model_selection/_search.py:814: DeprecationWarning: The default of the `iid` parameter will change from True to False in version 0.22 and will be removed in 0.24. This will change numeric results when test-set sizes are unequal.\n",
      "  DeprecationWarning)\n",
      "/home/anna/anaconda3/lib/python3.7/site-packages/sklearn/model_selection/_search.py:814: DeprecationWarning: The default of the `iid` parameter will change from True to False in version 0.22 and will be removed in 0.24. This will change numeric results when test-set sizes are unequal.\n",
      "  DeprecationWarning)\n",
      "/home/anna/anaconda3/lib/python3.7/site-packages/sklearn/model_selection/_search.py:814: DeprecationWarning: The default of the `iid` parameter will change from True to False in version 0.22 and will be removed in 0.24. This will change numeric results when test-set sizes are unequal.\n",
      "  DeprecationWarning)\n",
      "/home/anna/anaconda3/lib/python3.7/site-packages/sklearn/model_selection/_search.py:814: DeprecationWarning: The default of the `iid` parameter will change from True to False in version 0.22 and will be removed in 0.24. This will change numeric results when test-set sizes are unequal.\n",
      "  DeprecationWarning)\n",
      "/home/anna/anaconda3/lib/python3.7/site-packages/sklearn/model_selection/_search.py:814: DeprecationWarning: The default of the `iid` parameter will change from True to False in version 0.22 and will be removed in 0.24. This will change numeric results when test-set sizes are unequal.\n",
      "  DeprecationWarning)\n"
     ]
    }
   ],
   "source": [
    "best_params = list()\n",
    "best_score = list()\n",
    "\n",
    "dtr = DecisionTreeRegressor(random_state=1001)\n",
    "params = {\"max_depth\":[None, 5, 10, 20, 50, 75, 100, 150], \"min_samples_split\":[2,5,10,20,50, 75]}\n",
    "r2_scorer = make_scorer(r2_score)\n",
    "search = GridSearchCV(dtr, params, scoring=r2_scorer, cv=10)\n",
    "\n",
    "for dat in x_data:\n",
    "    search.fit(dat, abbrev[\"deaths\"])\n",
    "    best_params.append(search.best_params_)\n",
    "    best_score.append(search.best_score_)"
   ]
  },
  {
   "cell_type": "code",
   "execution_count": 37,
   "metadata": {},
   "outputs": [
    {
     "name": "stdout",
     "output_type": "stream",
     "text": [
      "no case data                                       : 0.209\n",
      "{'max_depth': 5, 'min_samples_split': 75}\n",
      "\n",
      "with case data                                     : 0.177\n",
      "{'max_depth': 10, 'min_samples_split': 75}\n",
      "\n",
      "log predictors, no case data                       : -17.3\n",
      "{'max_depth': 10, 'min_samples_split': 2}\n",
      "\n",
      "log predictors, with case data                     : 0.177\n",
      "{'max_depth': 10, 'min_samples_split': 75}\n",
      "\n",
      "no case data, with interactions                    : -53.5\n",
      "{'max_depth': 5, 'min_samples_split': 2}\n",
      "\n",
      "with case data, with interactions                  : 0.0834\n",
      "{'max_depth': 20, 'min_samples_split': 20}\n",
      "\n",
      "log predictors, no case data, with interactions    : -17.5\n",
      "{'max_depth': 10, 'min_samples_split': 50}\n",
      "\n",
      "log predictors, with case data, with interactions  : 0.126\n",
      "{'max_depth': None, 'min_samples_split': 5}\n",
      "\n"
     ]
    }
   ],
   "source": [
    "for a, b, c in zip(labels, best_score, best_params):\n",
    "    print(\"{:50} : {:>5.3}\".format(a, b))\n",
    "    print(c)\n",
    "    print()"
   ]
  },
  {
   "cell_type": "markdown",
   "metadata": {},
   "source": [
    "### try with transformed target \n",
    "\n",
    "couldn't get pipeline to work with TransformedTargetRegressor + DecisionTreeRegressor(), so created a new column with manually transformed dependent variable"
   ]
  },
  {
   "cell_type": "code",
   "execution_count": 45,
   "metadata": {},
   "outputs": [],
   "source": [
    "abbrev[\"log_deaths\"] = np.log1p(abbrev[\"deaths\"])"
   ]
  },
  {
   "cell_type": "code",
   "execution_count": 49,
   "metadata": {},
   "outputs": [
    {
     "name": "stderr",
     "output_type": "stream",
     "text": [
      "/home/anna/anaconda3/lib/python3.7/site-packages/sklearn/model_selection/_search.py:814: DeprecationWarning: The default of the `iid` parameter will change from True to False in version 0.22 and will be removed in 0.24. This will change numeric results when test-set sizes are unequal.\n",
      "  DeprecationWarning)\n",
      "/home/anna/anaconda3/lib/python3.7/site-packages/sklearn/model_selection/_search.py:814: DeprecationWarning: The default of the `iid` parameter will change from True to False in version 0.22 and will be removed in 0.24. This will change numeric results when test-set sizes are unequal.\n",
      "  DeprecationWarning)\n",
      "/home/anna/anaconda3/lib/python3.7/site-packages/sklearn/model_selection/_search.py:814: DeprecationWarning: The default of the `iid` parameter will change from True to False in version 0.22 and will be removed in 0.24. This will change numeric results when test-set sizes are unequal.\n",
      "  DeprecationWarning)\n",
      "/home/anna/anaconda3/lib/python3.7/site-packages/sklearn/model_selection/_search.py:814: DeprecationWarning: The default of the `iid` parameter will change from True to False in version 0.22 and will be removed in 0.24. This will change numeric results when test-set sizes are unequal.\n",
      "  DeprecationWarning)\n",
      "/home/anna/anaconda3/lib/python3.7/site-packages/sklearn/model_selection/_search.py:814: DeprecationWarning: The default of the `iid` parameter will change from True to False in version 0.22 and will be removed in 0.24. This will change numeric results when test-set sizes are unequal.\n",
      "  DeprecationWarning)\n",
      "/home/anna/anaconda3/lib/python3.7/site-packages/sklearn/model_selection/_search.py:814: DeprecationWarning: The default of the `iid` parameter will change from True to False in version 0.22 and will be removed in 0.24. This will change numeric results when test-set sizes are unequal.\n",
      "  DeprecationWarning)\n",
      "/home/anna/anaconda3/lib/python3.7/site-packages/sklearn/model_selection/_search.py:814: DeprecationWarning: The default of the `iid` parameter will change from True to False in version 0.22 and will be removed in 0.24. This will change numeric results when test-set sizes are unequal.\n",
      "  DeprecationWarning)\n",
      "/home/anna/anaconda3/lib/python3.7/site-packages/sklearn/model_selection/_search.py:814: DeprecationWarning: The default of the `iid` parameter will change from True to False in version 0.22 and will be removed in 0.24. This will change numeric results when test-set sizes are unequal.\n",
      "  DeprecationWarning)\n"
     ]
    }
   ],
   "source": [
    "best_params = list()\n",
    "best_score = list()\n",
    "\n",
    "dtr = DecisionTreeRegressor(random_state=1001)\n",
    "params = {\"max_depth\":[None, 5, 10, 20, 50, 75, 100, 150], \n",
    "          \"min_samples_split\":[2, 5, 10, 20, 50, 75, 100, 150]}\n",
    "r2_scorer = make_scorer(r2_score)\n",
    "search = GridSearchCV(dtr, params, scoring=r2_scorer, cv=10)\n",
    "\n",
    "for dat in x_data:\n",
    "    search.fit(dat, abbrev[\"log_deaths\"])\n",
    "    best_params.append(search.best_params_)\n",
    "    best_score.append(search.best_score_)"
   ]
  },
  {
   "cell_type": "code",
   "execution_count": 50,
   "metadata": {},
   "outputs": [
    {
     "name": "stdout",
     "output_type": "stream",
     "text": [
      "no case data                                       : 0.581\n",
      "{'max_depth': 5, 'min_samples_split': 20}\n",
      "\n",
      "with case data                                     : 0.578\n",
      "{'max_depth': 5, 'min_samples_split': 20}\n",
      "\n",
      "log predictors, no case data                       : 0.581\n",
      "{'max_depth': 5, 'min_samples_split': 20}\n",
      "\n",
      "log predictors, with case data                     : 0.578\n",
      "{'max_depth': 5, 'min_samples_split': 20}\n",
      "\n",
      "no case data, with interactions                    : 0.548\n",
      "{'max_depth': 5, 'min_samples_split': 150}\n",
      "\n",
      "with case data, with interactions                  : 0.541\n",
      "{'max_depth': 5, 'min_samples_split': 150}\n",
      "\n",
      "log predictors, no case data, with interactions    : 0.565\n",
      "{'max_depth': None, 'min_samples_split': 100}\n",
      "\n",
      "log predictors, with case data, with interactions  : 0.565\n",
      "{'max_depth': 5, 'min_samples_split': 100}\n",
      "\n"
     ]
    }
   ],
   "source": [
    "for a, b, c in zip(labels, best_score, best_params):\n",
    "    print(\"{:50} : {:>5.3}\".format(a, b))\n",
    "    print(c)\n",
    "    print()"
   ]
  },
  {
   "cell_type": "markdown",
   "metadata": {},
   "source": [
    "## Random Forest"
   ]
  },
  {
   "cell_type": "code",
   "execution_count": 57,
   "metadata": {},
   "outputs": [
    {
     "name": "stderr",
     "output_type": "stream",
     "text": [
      "/home/anna/anaconda3/lib/python3.7/site-packages/sklearn/model_selection/_search.py:814: DeprecationWarning: The default of the `iid` parameter will change from True to False in version 0.22 and will be removed in 0.24. This will change numeric results when test-set sizes are unequal.\n",
      "  DeprecationWarning)\n",
      "/home/anna/anaconda3/lib/python3.7/site-packages/sklearn/model_selection/_search.py:814: DeprecationWarning: The default of the `iid` parameter will change from True to False in version 0.22 and will be removed in 0.24. This will change numeric results when test-set sizes are unequal.\n",
      "  DeprecationWarning)\n",
      "/home/anna/anaconda3/lib/python3.7/site-packages/sklearn/model_selection/_search.py:814: DeprecationWarning: The default of the `iid` parameter will change from True to False in version 0.22 and will be removed in 0.24. This will change numeric results when test-set sizes are unequal.\n",
      "  DeprecationWarning)\n",
      "/home/anna/anaconda3/lib/python3.7/site-packages/sklearn/model_selection/_search.py:814: DeprecationWarning: The default of the `iid` parameter will change from True to False in version 0.22 and will be removed in 0.24. This will change numeric results when test-set sizes are unequal.\n",
      "  DeprecationWarning)\n",
      "/home/anna/anaconda3/lib/python3.7/site-packages/sklearn/model_selection/_search.py:814: DeprecationWarning: The default of the `iid` parameter will change from True to False in version 0.22 and will be removed in 0.24. This will change numeric results when test-set sizes are unequal.\n",
      "  DeprecationWarning)\n",
      "/home/anna/anaconda3/lib/python3.7/site-packages/sklearn/model_selection/_search.py:814: DeprecationWarning: The default of the `iid` parameter will change from True to False in version 0.22 and will be removed in 0.24. This will change numeric results when test-set sizes are unequal.\n",
      "  DeprecationWarning)\n",
      "/home/anna/anaconda3/lib/python3.7/site-packages/sklearn/model_selection/_search.py:814: DeprecationWarning: The default of the `iid` parameter will change from True to False in version 0.22 and will be removed in 0.24. This will change numeric results when test-set sizes are unequal.\n",
      "  DeprecationWarning)\n",
      "/home/anna/anaconda3/lib/python3.7/site-packages/sklearn/model_selection/_search.py:814: DeprecationWarning: The default of the `iid` parameter will change from True to False in version 0.22 and will be removed in 0.24. This will change numeric results when test-set sizes are unequal.\n",
      "  DeprecationWarning)\n"
     ]
    },
    {
     "name": "stdout",
     "output_type": "stream",
     "text": [
      "no case data                                       : -1.04\n",
      "{'max_depth': 10, 'n_estimators': 500}\n",
      "\n",
      "with case data                                     : -0.765\n",
      "{'max_depth': 10, 'n_estimators': 100}\n",
      "\n",
      "log predictors, no case data                       : -1.22\n",
      "{'max_depth': 5, 'n_estimators': 150}\n",
      "\n",
      "log predictors, with case data                     : -1.22\n",
      "{'max_depth': 15, 'n_estimators': 500}\n",
      "\n",
      "no case data, with interactions                    : -0.495\n",
      "{'max_depth': 15, 'n_estimators': 250}\n",
      "\n",
      "with case data, with interactions                  : -0.409\n",
      "{'max_depth': 10, 'n_estimators': 100}\n",
      "\n",
      "log predictors, no case data, with interactions    : -0.821\n",
      "{'max_depth': 10, 'n_estimators': 500}\n",
      "\n",
      "log predictors, with case data, with interactions  : -0.537\n",
      "{'max_depth': 15, 'n_estimators': 500}\n",
      "\n"
     ]
    }
   ],
   "source": [
    "best_params = list()\n",
    "best_score = list()\n",
    "\n",
    "rfr = RandomForestRegressor(random_state=1001)\n",
    "params = {'n_estimators':[50,100,150,250,500], \n",
    "          'max_depth':[None,5,10,15,25,50,100]}\n",
    "r2_scorer = make_scorer(r2_score)\n",
    "search = GridSearchCV(rfr, params, scoring=r2_scorer, cv=10)\n",
    "\n",
    "for dat in x_data:\n",
    "    search.fit(dat, abbrev[\"deaths\"])\n",
    "    best_params.append(search.best_params_)\n",
    "    best_score.append(search.best_score_)\n",
    "    \n",
    "for a, b, c in zip(labels, best_score, best_params):\n",
    "    print(\"{:50} : {:>5.3}\".format(a, b))\n",
    "    print(c)\n",
    "    print()\n",
    "    \n",
    "# this took a few hours to run"
   ]
  },
  {
   "cell_type": "markdown",
   "metadata": {},
   "source": [
    "I'm not sure that running more of these is worth the time/computation resources..."
   ]
  }
 ],
 "metadata": {
  "kernelspec": {
   "display_name": "Python 3",
   "language": "python",
   "name": "python3"
  },
  "language_info": {
   "codemirror_mode": {
    "name": "ipython",
    "version": 3
   },
   "file_extension": ".py",
   "mimetype": "text/x-python",
   "name": "python",
   "nbconvert_exporter": "python",
   "pygments_lexer": "ipython3",
   "version": "3.7.3"
  }
 },
 "nbformat": 4,
 "nbformat_minor": 4
}
